{
 "cells": [
  {
   "cell_type": "markdown",
   "metadata": {},
   "source": [
    "# Using k-means clustering for LIDs allocation\n",
    "\n",
    "## Introduction\n",
    "Previous research states that aggregating LIDs is a good strategy to reduce runoff and Combined Sewer Overflows.\n",
    "In this document we will exploite the k-means clustering algorithm to test wether aggregation increase the performance of Pervious Pavements to reduce CSO."
   ]
  },
  {
   "cell_type": "markdown",
   "metadata": {},
   "source": [
    "### Step 1: Cluster the subcatchments by location\n",
    "We need the set of coordinates for each subcatchment"
   ]
  },
  {
   "cell_type": "code",
   "execution_count": 1,
   "metadata": {},
   "outputs": [],
   "source": [
    "#load required packages\n",
    "from sklearn.cluster import KMeans\n",
    "import matplotlib.pyplot as plt\n",
    "import numpy as np\n",
    "import pandas as pd"
   ]
  },
  {
   "cell_type": "code",
   "execution_count": 76,
   "metadata": {},
   "outputs": [],
   "source": [
    "#function that creates clusters with the subcatchments\n",
    "def kmeans_clusters(data,num_clusters):\n",
    "    #data containing coordinates\n",
    "    kmeans = KMeans(n_clusters=num_clusters, random_state=0).fit(data)\n",
    "    return kmeans"
   ]
  },
  {
   "cell_type": "code",
   "execution_count": 84,
   "metadata": {},
   "outputs": [
    {
     "name": "stderr",
     "output_type": "stream",
     "text": [
      "C:\\ProgramData\\Anaconda3\\lib\\site-packages\\ipykernel_launcher.py:20: DeprecationWarning: Both axis > a.ndim and axis < -a.ndim - 1 are deprecated and will raise an AxisError in the future.\n"
     ]
    }
   ],
   "source": [
    "#Create clusters from PP coordinates\n",
    "#Load the text file contains the xy coordinates of all the subcatchments.\n",
    "#We are interested in \"Parking\" and \"SAimp\"\n",
    "#Define the number of clusters, observe that 'clusters_set' is a list, hence we can simultaneously create different number of clusters for testing.\n",
    "#For illustration, we will only show a 100 clusters\n",
    "\n",
    "clusters_set=[100]#number of clusters\n",
    "#'Parking_SAimp_coord.txt'-all Subcatchments\n",
    "#CSO014_ParkingSAimp_coord.txt- CSO014 ONLY\n",
    "\n",
    "#Read the file with pandas and reassign the index with the subcatchment name\n",
    "data_original= pd.read_csv('CSO014_ParkingSAimp_coord.txt',sep='\\t') #read the original file\n",
    "data_original=data_original.set_index('NAME')\n",
    "\n",
    "\n",
    "#Create clusters and add a column to the original dataset\n",
    "for i in clusters_set: \n",
    "    KMEANS=kmeans_clusters(data_original,i) #object that the function kmeans_clusters returns\n",
    "    centers=KMEANS.cluster_centers_ #extract the cluster centers\n",
    "    vector= np.expand_dims(KMEANS.labels_, axis=2) #extract the labels of each point\n",
    "    data_w_clusters=np.append(data_original,vector,axis=1)\n",
    "\n",
    "#convert into df again\n",
    "data_w_clusters= pd.DataFrame(data_w_clusters, columns=['CX','CY','Cluster'], index=data_original.index)"
   ]
  },
  {
   "cell_type": "code",
   "execution_count": 82,
   "metadata": {},
   "outputs": [],
   "source": [
    "###Print subcatchments with clusters\n",
    "file1=open(\"CSO014cluster.dat\",\"w\")\n",
    "data_w_clusters.to_string(file1)\n",
    "file1.close()\n",
    "\n",
    "###Print cluster's centroids\n",
    "df_centers = pd.DataFrame(centers,columns=[\"X_CENTROID\",\"Y_CENTROID\"])\n",
    "df_centers\n",
    "file2=open(\"CSO014clusterCENTERS.dat\",\"w\")\n",
    "df_centers.to_string(file2)\n",
    "file2.close()"
   ]
  },
  {
   "cell_type": "code",
   "execution_count": null,
   "metadata": {},
   "outputs": [],
   "source": []
  }
 ],
 "metadata": {
  "kernelspec": {
   "display_name": "Python 3",
   "language": "python",
   "name": "python3"
  },
  "language_info": {
   "codemirror_mode": {
    "name": "ipython",
    "version": 3
   },
   "file_extension": ".py",
   "mimetype": "text/x-python",
   "name": "python",
   "nbconvert_exporter": "python",
   "pygments_lexer": "ipython3",
   "version": "3.7.3"
  }
 },
 "nbformat": 4,
 "nbformat_minor": 2
}
