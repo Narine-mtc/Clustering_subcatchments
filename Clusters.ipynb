{
 "cells": [
  {
   "cell_type": "code",
   "execution_count": 44,
   "metadata": {},
   "outputs": [],
   "source": [
    "#Create clusters from PP coordinates\n",
    "#the text file contains the xy coordinates of all the subcatchments.\n",
    "#We are interested in \"Parking\" and \"SAimp\"\n",
    "\n",
    "from sklearn.cluster import KMeans\n",
    "import matplotlib.pyplot as plt\n",
    "import numpy as np\n",
    "import pandas as pd\n"
   ]
  },
  {
   "cell_type": "code",
   "execution_count": 45,
   "metadata": {},
   "outputs": [],
   "source": [
    "#function that creates clusters with the subcatchments\n",
    "def kmeans_clusters(data,num_clusters):\n",
    "    #data-> matrix of three columns, second and third containing coordinates\n",
    "    kmeans = KMeans(n_clusters=num_clusters, random_state=0).fit(data)\n",
    "    return kmeans"
   ]
  },
  {
   "cell_type": "code",
   "execution_count": 46,
   "metadata": {},
   "outputs": [
    {
     "name": "stdout",
     "output_type": "stream",
     "text": [
      "[[ 1  2]\n",
      " [10  0]\n",
      " [ 1  0]\n",
      " [10  2]\n",
      " [10  4]\n",
      " [ 1  4]]\n"
     ]
    },
    {
     "data": {
      "text/plain": [
       "array([[10.,  2.],\n",
       "       [ 1.,  2.]])"
      ]
     },
     "execution_count": 46,
     "metadata": {},
     "output_type": "execute_result"
    },
    {
     "data": {
      "image/png": "[encoded data removed]",
      "text/plain": [
       "<Figure size 432x288 with 1 Axes>"
      ]
     },
     "metadata": {
      "needs_background": "light"
     },
     "output_type": "display_data"
    }
   ],
   "source": [
    "#EXAMPLE\n",
    "X = np.array([[1, 2], [10, 0], [1, 0],[10, 2], [10, 4], [1, 4]])\n",
    "print(X)\n",
    "\n",
    "X_T=np.transpose(X)\n",
    "x=X_T[:1][0]\n",
    "y=X_T[1:2][0]\n",
    "\n",
    "plt.scatter(x,y)\n",
    "kmeans = KMeans(n_clusters=2, random_state=0).fit(X)\n",
    "kmeans.labels_\n",
    "kmeans.cluster_centers_"
   ]
  },
  {
   "cell_type": "code",
   "execution_count": 47,
   "metadata": {},
   "outputs": [
    {
     "data": {
      "text/plain": [
       "(1620, 2)"
      ]
     },
     "execution_count": 47,
     "metadata": {},
     "output_type": "execute_result"
    }
   ],
   "source": [
    "#'Parking_SAimp_coord.txt'-all Subcatchments\n",
    "#CSO014_ParkingSAimp_coord.txt- CSO014 ONLY\n",
    "#CSO026_ParkingSAimp_coord.txt- CSO026 ONLY\n",
    "#CSO027_ParkingSAimp_coord.txt- CSO027 ONLY\n",
    "#CSO033_ParkingSAimp_coord.txt- CSO033 ONLY\n",
    "#CSO053_ParkingSAimp_coord.txt- CSO053 ONLY\n",
    "\n",
    "data = np.genfromtxt(fname='CSO014_ParkingSAimp_coord.txt')\n",
    "data=np.delete(data, 0, axis=0)\n",
    "data=np.delete(data, 0, axis=1)\n",
    "#print(data)\n",
    "data.shape"
   ]
  },
  {
   "cell_type": "code",
   "execution_count": 53,
   "metadata": {},
   "outputs": [
    {
     "name": "stderr",
     "output_type": "stream",
     "text": [
      "C:\\ProgramData\\Anaconda3\\lib\\site-packages\\ipykernel_launcher.py:6: DeprecationWarning: Both axis > a.ndim and axis < -a.ndim - 1 are deprecated and will raise an AxisError in the future.\n",
      "  \n",
      "C:\\ProgramData\\Anaconda3\\lib\\site-packages\\ipykernel_launcher.py:6: DeprecationWarning: Both axis > a.ndim and axis < -a.ndim - 1 are deprecated and will raise an AxisError in the future.\n",
      "  \n"
     ]
    }
   ],
   "source": [
    "clusters_set=[50,100]\n",
    "#Create clusters and add a column to the original dataset\n",
    "for i in clusters_set: \n",
    "    KMEANS=kmeans_clusters(data,i)\n",
    "    centers=KMEANS.cluster_centers_\n",
    "    vector= np.expand_dims(KMEANS.labels_, axis=2)\n",
    "    data=np.append(data,vector,axis=1)\n",
    "#CLUSTERS convert data to dataframe and print to .dat\n",
    "df = pd.DataFrame(data)\n",
    "file1=open(\"CSO014cluster.dat\",\"w\")\n",
    "df.to_string(file1)\n",
    "file1.close()\n",
    "\n",
    "##CLUSTERS enters convert\n",
    "df = pd.DataFrame(centers)\n",
    "file2=open(\"CSO014clusterCENTERS.dat\",\"w\")\n",
    "df.to_string(file2)\n",
    "file2.close()"
   ]
  },
  {
   "cell_type": "code",
   "execution_count": null,
   "metadata": {},
   "outputs": [],
   "source": []
  }
 ],
 "metadata": {
  "kernelspec": {
   "display_name": "Python 3",
   "language": "python",
   "name": "python3"
  },
  "language_info": {
   "codemirror_mode": {
    "name": "ipython",
    "version": 3
   },
   "file_extension": ".py",
   "mimetype": "text/x-python",
   "name": "python",
   "nbconvert_exporter": "python",
   "pygments_lexer": "ipython3",
   "version": "3.7.3"
  }
 },
 "nbformat": 4,
 "nbformat_minor": 2
}
