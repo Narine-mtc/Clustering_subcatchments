{
 "cells": [
  {
   "cell_type": "code",
   "execution_count": 44,
   "metadata": {},
   "outputs": [],
   "source": [
    "#Create clusters from PP coordinates\n",
    "#the text file contains the xy coordinates of all the subcatchments.\n",
    "#We are interested in \"Parking\" and \"SAimp\"\n",
    "\n",
    "from sklearn.cluster import KMeans\n",
    "import matplotlib.pyplot as plt\n",
    "import numpy as np\n",
    "import pandas as pd\n"
   ]
  },
  {
   "cell_type": "code",
   "execution_count": 45,
   "metadata": {},
   "outputs": [],
   "source": [
    "#function that creates clusters with the subcatchments\n",
    "def kmeans_clusters(data,num_clusters):\n",
    "    #data-> matrix of three columns, second and third containing coordinates\n",
    "    kmeans = KMeans(n_clusters=num_clusters, random_state=0).fit(data)\n",
    "    return kmeans"
   ]
  },
  {
   "cell_type": "code",
   "execution_count": 46,
   "metadata": {},
   "outputs": [
    {
     "name": "stdout",
     "output_type": "stream",
     "text": [
      "[[ 1  2]\n",
      " [10  0]\n",
      " [ 1  0]\n",
      " [10  2]\n",
      " [10  4]\n",
      " [ 1  4]]\n"
     ]
    },
    {
     "data": {
      "text/plain": [
       "array([[10.,  2.],\n",
       "       [ 1.,  2.]])"
      ]
     },
     "execution_count": 46,
     "metadata": {},
     "output_type": "execute_result"
    },
    {
     "data": {
      "image/png": "[encoded data removed]",
      "text/plain": [
       "<Figure size 432x288 with 1 Axes>"
      ]
     },
     "metadata": {
      "needs_background": "light"
     },
     "output_type": "display_data"
    }
   ],
   "source": [
    "#EXAMPLE\n",
    "X = np.array([[1, 2], [10, 0], [1, 0],[10, 2], [10, 4], [1, 4]])\n",
    "print(X)\n",
    "\n",
    "X_T=np.transpose(X)\n",
    "x=X_T[:1][0]\n",
    "y=X_T[1:2][0]\n",
    "\n",
    "plt.scatter(x,y)\n",
    "kmeans = KMeans(n_clusters=2, random_state=0).fit(X)\n",
    "kmeans.labels_\n",
    "kmeans.cluster_centers_"
   ]
  },
  {
   "cell_type": "code",
   "execution_count": 47,
   "metadata": {},
   "outputs": [
    {
     "data": {
      "text/plain": [
       "(1620, 2)"
      ]
     },
     "execution_count": 47,
     "metadata": {},
     "output_type": "execute_result"
    }
   ],
   "source": [
    "#'Parking_SAimp_coord.txt'-all Subcatchments\n",
    "#CSO014_ParkingSAimp_coord.txt- CSO014 ONLY\n",
    "#CSO026_ParkingSAimp_coord.txt- CSO026 ONLY\n",
    "#CSO027_ParkingSAimp_coord.txt- CSO027 ONLY\n",
    "#CSO033_ParkingSAimp_coord.txt- CSO033 ONLY\n",
    "#CSO053_ParkingSAimp_coord.txt- CSO053 ONLY\n",
    "\n",
    "data = np.genfromtxt(fname='CSO014_ParkingSAimp_coord.txt')\n",
    "data=np.delete(data, 0, axis=0)\n",
    "data=np.delete(data, 0, axis=1)\n",
    "#print(data)\n",
    "data.shape"
   ]
  },
  {
   "cell_type": "code",
   "execution_count": 48,
   "metadata": {},
   "outputs": [
    {
     "name": "stderr",
     "output_type": "stream",
     "text": [
      "C:\\ProgramData\\Anaconda3\\lib\\site-packages\\ipykernel_launcher.py:6: DeprecationWarning: Both axis > a.ndim and axis < -a.ndim - 1 are deprecated and will raise an AxisError in the future.\n",
      "  \n",
      "C:\\ProgramData\\Anaconda3\\lib\\site-packages\\ipykernel_launcher.py:6: DeprecationWarning: Both axis > a.ndim and axis < -a.ndim - 1 are deprecated and will raise an AxisError in the future.\n",
      "  \n"
     ]
    }
   ],
   "source": [
    "clusters_set=[50,100]\n",
    "#Create clusters and add a column to the original dataset\n",
    "for i in clusters_set: \n",
    "    KMEANS=kmeans_clusters(data,i)\n",
    "    centers=KMEANS.cluster_centers_\n",
    "    vector= np.expand_dims(KMEANS.labels_, axis=2)\n",
    "    data=np.append(data,vector,axis=1)\n",
    "#CLUSTERS convert data to dataframe and print to .dat\n",
    "df = pd.DataFrame(data)\n",
    "file1=open(\"CSO014cluster.dat\",\"w\")\n",
    "df.to_string(file1)\n",
    "file1.close()\n",
    "\n",
    "##CLUSTERS enters convert\n",
    "df = pd.DataFrame(data)\n",
    "file2=open(\"CSO014clusterCENTERS.dat\",\"w\")\n",
    "df.to_string(file2)\n",
    "file1.close()"
   ]
  },
  {
   "cell_type": "code",
   "execution_count": 50,
   "metadata": {},
   "outputs": [
    {
     "data": {
      "text/plain": [
       "array([[ 1.07535944e+06,  1.04918487e+06,  4.71052632e+01],\n",
       "       [ 1.08122427e+06,  1.05625374e+06,  1.60526316e+01],\n",
       "       [ 1.07113002e+06,  1.05373211e+06,  8.15384615e+00],\n",
       "       [ 1.07744631e+06,  1.05342920e+06,  3.00000000e+01],\n",
       "       [ 1.08202060e+06,  1.05022426e+06,  1.82105263e+01],\n",
       "       [ 1.06968735e+06,  1.04996414e+06,  1.40000000e+01],\n",
       "       [ 1.07361403e+06,  1.05677405e+06,  1.90000000e+01],\n",
       "       [ 1.08463694e+06,  1.05829000e+06,  4.80000000e+01],\n",
       "       [ 1.08138809e+06,  1.04871881e+06,  2.52857143e+01],\n",
       "       [ 1.07953761e+06,  1.05916569e+06,  3.90000000e+01],\n",
       "       [ 1.07604718e+06,  1.05238218e+06,  3.34375000e+01],\n",
       "       [ 1.08012118e+06,  1.05139574e+06,  4.20000000e+01],\n",
       "       [ 1.06702655e+06,  1.05343239e+06,  7.00000000e+00],\n",
       "       [ 1.08524780e+06,  1.05217609e+06,  1.10000000e+01],\n",
       "       [ 1.07269771e+06,  1.05245456e+06,  1.36666667e+01],\n",
       "       [ 1.08273822e+06,  1.05465478e+06,  2.50000000e+01],\n",
       "       [ 1.08194884e+06,  1.04570111e+06,  2.79166667e+01],\n",
       "       [ 1.07730734e+06,  1.05639586e+06,  2.91578947e+01],\n",
       "       [ 1.07371804e+06,  1.05447525e+06,  4.00454545e+01],\n",
       "       [ 1.07044974e+06,  1.05216545e+06,  3.37727273e+01],\n",
       "       [ 1.07870066e+06,  1.04695573e+06,  5.00000000e+00],\n",
       "       [ 1.07746533e+06,  1.05059762e+06,  3.24166667e+01],\n",
       "       [ 1.08113523e+06,  1.05843033e+06,  2.07222222e+01],\n",
       "       [ 1.06851903e+06,  1.05342794e+06,  4.31904762e+01],\n",
       "       [ 1.07481492e+06,  1.05022882e+06,  4.65294118e+01],\n",
       "       [ 1.07545582e+06,  1.05731446e+06,  2.40000000e+01],\n",
       "       [ 1.07846089e+06,  1.05380493e+06,  3.56111111e+01],\n",
       "       [ 1.07169810e+06,  1.05544671e+06,  1.94285714e+01],\n",
       "       [ 1.08189880e+06,  1.05330907e+06,  2.84615385e+00],\n",
       "       [ 1.07266162e+06,  1.05515668e+06,  3.15625000e+01],\n",
       "       [ 1.07980545e+06,  1.05361373e+06,  1.61538462e+01],\n",
       "       [ 1.08092466e+06,  1.05424016e+06,  1.23157895e+01],\n",
       "       [ 1.07261856e+06,  1.05011121e+06,  2.80000000e+01],\n",
       "       [ 1.07694435e+06,  1.04850398e+06,  1.30000000e+01],\n",
       "       [ 1.07719012e+06,  1.05771692e+06,  1.00000000e+01],\n",
       "       [ 1.08392364e+06,  1.05164842e+06,  1.10000000e+01],\n",
       "       [ 1.08382990e+06,  1.05558098e+06,  1.10000000e+01],\n",
       "       [ 1.07387718e+06,  1.05248510e+06,  2.90000000e+01],\n",
       "       [ 1.07637798e+06,  1.05459931e+06,  2.47272727e+01],\n",
       "       [ 1.08551234e+06,  1.06017686e+06,  2.70000000e+01],\n",
       "       [ 1.07153779e+06,  1.05039391e+06,  4.40000000e+01],\n",
       "       [ 1.07664071e+06,  1.05104595e+06,  1.50526316e+01],\n",
       "       [ 1.08216235e+06,  1.05726705e+06,  1.52500000e+01],\n",
       "       [ 1.06926287e+06,  1.05266032e+06,  3.80000000e+01],\n",
       "       [ 1.07871378e+06,  1.05231868e+06,  1.92666667e+01],\n",
       "       [ 1.07866925e+06,  1.05581530e+06,  4.09000000e+01],\n",
       "       [ 1.07284985e+06,  1.05343459e+06,  2.00000000e+01],\n",
       "       [ 1.08258211e+06,  1.04799051e+06,  2.20000000e+01],\n",
       "       [ 1.08100165e+06,  1.04658332e+06,  3.50000000e+01],\n",
       "       [ 1.07392394e+06,  1.05554117e+06,  2.76842105e+01],\n",
       "       [ 1.07865310e+06,  1.05100660e+06,  2.60000000e+01],\n",
       "       [ 1.07590201e+06,  1.05019082e+06,  3.32352941e+01],\n",
       "       [ 1.07388326e+06,  1.04967605e+06,  3.17058824e+01],\n",
       "       [ 1.08215218e+06,  1.05901628e+06,  3.11666667e+01],\n",
       "       [ 1.07873356e+06,  1.04803204e+06,  5.00000000e+00],\n",
       "       [ 1.07602277e+06,  1.05577389e+06,  2.21333333e+01],\n",
       "       [ 1.07010138e+06,  1.05332208e+06,  1.55454545e+01],\n",
       "       [ 1.07196487e+06,  1.05640285e+06, -7.10542736e-15],\n",
       "       [ 1.08310263e+06,  1.04518999e+06,  1.80000000e+01],\n",
       "       [ 1.07123737e+06,  1.05151648e+06,  3.89090909e+01],\n",
       "       [ 1.07840385e+06,  1.05744459e+06,  3.25000000e+01],\n",
       "       [ 1.07072101e+06,  1.05473369e+06,  2.25454545e+01],\n",
       "       [ 1.07647610e+06,  1.05337684e+06,  3.05000000e+01],\n",
       "       [ 1.06850137e+06,  1.05228832e+06,  3.55555556e+01],\n",
       "       [ 1.07981885e+06,  1.05776954e+06,  1.18823529e+01],\n",
       "       [ 1.07975279e+06,  1.05005704e+06,  4.47272727e+01],\n",
       "       [ 1.08380612e+06,  1.05701608e+06,  2.01666667e+01],\n",
       "       [ 1.08000045e+06,  1.05521208e+06,  2.83333333e+01],\n",
       "       [ 1.07070784e+06,  1.05050201e+06,  4.10000000e+01],\n",
       "       [ 1.07730028e+06,  1.05210978e+06,  2.30000000e+01],\n",
       "       [ 1.07867904e+06,  1.05984519e+06,  3.90000000e+01],\n",
       "       [ 1.08184532e+06,  1.05507363e+06,  1.70000000e+01],\n",
       "       [ 1.07496229e+06,  1.05515260e+06,  8.00000000e+00],\n",
       "       [ 1.07969503e+06,  1.05252394e+06,  1.20000000e+01],\n",
       "       [ 1.07541353e+06,  1.05147573e+06,  9.80000000e+00],\n",
       "       [ 1.08389854e+06,  1.05421044e+06,  2.20000000e+01],\n",
       "       [ 1.07294054e+06,  1.05590927e+06,  1.07222222e+01],\n",
       "       [ 1.07503824e+06,  1.05262791e+06,  4.27857143e+01],\n",
       "       [ 1.07981843e+06,  1.05628866e+06,  4.30000000e+01],\n",
       "       [ 1.07438149e+06,  1.05126998e+06,  3.05714286e+01],\n",
       "       [ 1.08071052e+06,  1.05938939e+06,  3.20000000e+01],\n",
       "       [ 1.08078971e+06,  1.05295805e+06,  2.29411765e+00],\n",
       "       [ 1.08490892e+06,  1.05588963e+06,  9.00000000e+00],\n",
       "       [ 1.07213998e+06,  1.05157506e+06,  6.56000000e+00],\n",
       "       [ 1.08312435e+06,  1.05085016e+06,  1.44000000e+01],\n",
       "       [ 1.07125218e+06,  1.05279645e+06,  2.09629630e+01],\n",
       "       [ 1.07763496e+06,  1.05481733e+06,  3.60833333e+01],\n",
       "       [ 1.07336802e+06,  1.05126445e+06,  2.10000000e+01],\n",
       "       [ 1.07684865e+06,  1.04973743e+06,  2.94705882e+01],\n",
       "       [ 1.06713027e+06,  1.05203905e+06,  7.00000000e+00],\n",
       "       [ 1.08009948e+06,  1.04901870e+06,  4.50000000e+01],\n",
       "       [ 1.07616454e+06,  1.05654729e+06,  2.40000000e+01],\n",
       "       [ 1.06918340e+06,  1.05057439e+06,  1.40000000e+01],\n",
       "       [ 1.07817513e+06,  1.05846261e+06,  3.99285714e+01],\n",
       "       [ 1.08344513e+06,  1.05827624e+06,  3.13076923e+01],\n",
       "       [ 1.06952996e+06,  1.05152059e+06,  2.72352941e+01],\n",
       "       [ 1.07434793e+06,  1.05367588e+06,  2.81875000e+01],\n",
       "       [ 1.07880742e+06,  1.04932843e+06,  4.30000000e+01],\n",
       "       [ 1.07930885e+06,  1.05449869e+06,  2.75882353e+01],\n",
       "       [ 1.07204109e+06,  1.05431184e+06,  3.06666667e+01]])"
      ]
     },
     "execution_count": 50,
     "metadata": {},
     "output_type": "execute_result"
    }
   ],
   "source": [
    "centers"
   ]
  },
  {
   "cell_type": "code",
   "execution_count": 41,
   "metadata": {},
   "outputs": [
    {
     "data": {
      "text/plain": [
       "array([[12],\n",
       "       [12],\n",
       "       [89],\n",
       "       ...,\n",
       "       [39],\n",
       "       [39],\n",
       "       [39]])"
      ]
     },
     "execution_count": 41,
     "metadata": {},
     "output_type": "execute_result"
    }
   ],
   "source": [
    "res[0]"
   ]
  },
  {
   "cell_type": "code",
   "execution_count": null,
   "metadata": {},
   "outputs": [],
   "source": []
  }
 ],
 "metadata": {
  "kernelspec": {
   "display_name": "Python 3",
   "language": "python",
   "name": "python3"
  },
  "language_info": {
   "codemirror_mode": {
    "name": "ipython",
    "version": 3
   },
   "file_extension": ".py",
   "mimetype": "text/x-python",
   "name": "python",
   "nbconvert_exporter": "python",
   "pygments_lexer": "ipython3",
   "version": "3.7.3"
  }
 },
 "nbformat": 4,
 "nbformat_minor": 2
}
